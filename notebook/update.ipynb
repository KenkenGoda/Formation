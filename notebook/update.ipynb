{
 "cells": [
  {
   "cell_type": "markdown",
   "metadata": {},
   "source": [
    "# Import Modules"
   ]
  },
  {
   "cell_type": "code",
   "execution_count": 88,
   "metadata": {
    "code_folding": [
     0
    ]
   },
   "outputs": [],
   "source": [
    "# モジュールをインポート\n",
    "from PyAstronomy.pyasl import SWEETCat\n",
    "import numpy as np\n",
    "import pandas as pd\n",
    "import openpyxl\n",
    "import xlsxwriter\n",
    "import datetime\n",
    "import warnings\n",
    "\n",
    "# pandasの行と列の最大出力数を指定\n",
    "pd.set_option('display.max_columns', 30)\n",
    "pd.set_option('display.max_rows', 1000)\n",
    "\n",
    "# 警告を非表示\n",
    "warnings.filterwarnings('ignore')"
   ]
  },
  {
   "cell_type": "markdown",
   "metadata": {},
   "source": [
    "# Update"
   ]
  },
  {
   "cell_type": "markdown",
   "metadata": {},
   "source": [
    "## Read Files"
   ]
  },
  {
   "cell_type": "code",
   "execution_count": 89,
   "metadata": {
    "code_folding": [
     0
    ]
   },
   "outputs": [
    {
     "name": "stdout",
     "output_type": "stream",
     "text": [
      "Last update of dataset: 2018-10-25\n"
     ]
    }
   ],
   "source": [
    "# Excelファイルの読み出し\n",
    "directory_name = '/Users/shohei/Desktop/Shohei/Fresnel/Formation/Data'\n",
    "file_name = f'{directory_name}/dataset_new.xlsx'\n",
    "sheet_name = '2018-10-25'\n",
    "excel_book = pd.ExcelFile(file_name)\n",
    "df_old = excel_book.parse(sheet_name)\n",
    "print(f'Last update of dataset: {sheet_name}')"
   ]
  },
  {
   "cell_type": "code",
   "execution_count": 51,
   "metadata": {
    "code_folding": [
     0
    ]
   },
   "outputs": [],
   "source": [
    "# SWEET-CATカタログのデータの読み出し\n",
    "sweet_cat = SWEETCat().data\n",
    "\n",
    "# データが2つあるものの古い方を削除\n",
    "#sweet_cat = sweet_cat.drop(166)"
   ]
  },
  {
   "cell_type": "code",
   "execution_count": 52,
   "metadata": {
    "code_folding": [
     0
    ]
   },
   "outputs": [
    {
     "name": "stdout",
     "output_type": "stream",
     "text": [
      "Last update of exoplanet.eu: 2018-10-25\n"
     ]
    }
   ],
   "source": [
    "# exoplanet.euのデータの読み出し\n",
    "eu = pd.read_csv('/Users/shohei/Desktop/Shohei/Fresnel/Formation/Data/exoplanet.eu_catalog.csv')\n",
    "print('Last update of exoplanet.eu: 2018-10-25')"
   ]
  },
  {
   "cell_type": "markdown",
   "metadata": {},
   "source": [
    "## Select Columns"
   ]
  },
  {
   "cell_type": "code",
   "execution_count": 53,
   "metadata": {
    "code_folding": [
     0
    ]
   },
   "outputs": [],
   "source": [
    "## 必要なカラムを取得\n",
    "#df_old = df_old[['# name',\n",
    "#                 'star_name',\n",
    "#                 '[Fe/H]_sweet', '[Fe/H]_err',\n",
    "#                 'M*', 'M*_err',\n",
    "#                 'PER', 'UPER',\n",
    "#                 'ECC', 'UECC',\n",
    "#                 'K', 'UK',\n",
    "#                 'SEMI', 'USEMI',\n",
    "#                 'Mp', 'UMp',\n",
    "#                 'Ump_delta_K',\n",
    "#                 'Ump_delta_e',\n",
    "#                 'Ump_delta_P',\n",
    "#                 'Ump_delta_M*',\n",
    "#                 'Term_year',\n",
    "#                 'Accuracy'\n",
    "#                 ]]"
   ]
  },
  {
   "cell_type": "code",
   "execution_count": 54,
   "metadata": {
    "code_folding": [
     0
    ]
   },
   "outputs": [],
   "source": [
    "# カラム名を変換\n",
    "#df_old = df_old.rename(columns={'# name': 'planet',\n",
    "#                                'star_name': 'star',\n",
    "#                                '[Fe/H]_sweet': 'Fe/H', '[Fe/H]_err': 'dFe/H',\n",
    "#                                'M*': 'Ms', 'M*_err': 'dMs',\n",
    "#                                'PER': 'P', 'UPER': 'dP',\n",
    "#                                'ECC': 'e', 'UECC': 'de',\n",
    "#                                'K': 'K', 'UK': 'dK',\n",
    "#                                'SEMI': 'a', 'USEMI': 'da',\n",
    "#                                'Mp': 'Mp', 'UMp': 'dMp',\n",
    "#                                'Ump_delta_K': 'DK',\n",
    "#                                'Ump_delta_e': 'De',\n",
    "#                                'Ump_delta_P': 'DP',\n",
    "#                                'Ump_delta_M*': 'DMs',\n",
    "#                                'Term_year': 'Term',\n",
    "#                                'Accuracy': 'RMS',\n",
    "#                                })\n",
    "\n",
    "sweet_cat = sweet_cat.rename(columns={'mass': 'Ms_sweet', 'ermass': 'dMs_sweet',\n",
    "                                      'metal': 'Fe/H_sweet', 'ermetal': 'dFe/H_sweet',\n",
    "                                      'author': 'reference_sweet'\n",
    "                                     })\n",
    "\n",
    "eu = eu.rename(columns={'# name': 'planet',\n",
    "                        'orbital_period': 'P_eu',\n",
    "                        'eccentricity': 'e_eu',\n",
    "                        'k': 'K_eu',\n",
    "                        'star_metallicity': 'Fe/H_eu',\n",
    "                        'star_mass': 'Ms_eu'\n",
    "                       })                        "
   ]
  },
  {
   "cell_type": "code",
   "execution_count": 55,
   "metadata": {
    "code_folding": [
     0
    ]
   },
   "outputs": [],
   "source": [
    "# exoplanet.euの誤差データのカラムを作成\n",
    "eu['dP_eu'] = (eu['orbital_period_error_min']+eu['orbital_period_error_max'])*0.5\n",
    "eu['de_eu'] = (eu['eccentricity_error_min']+eu['eccentricity_error_max'])*0.5\n",
    "eu['dK_eu'] = (eu['k_error_min']+eu['k_error_max'])*0.5\n",
    "eu['dFe/H_eu'] = (eu['star_metallicity_error_min']+eu['star_metallicity_error_max'])*0.5\n",
    "eu['dMs_eu'] = (eu['star_mass_error_min']+eu['star_mass_error_max'])*0.5"
   ]
  },
  {
   "cell_type": "code",
   "execution_count": 82,
   "metadata": {
    "code_folding": [
     0
    ]
   },
   "outputs": [],
   "source": [
    "# SWEET-Catカタログから主星の質量と金属量のデータ、およびその誤差データを取得\n",
    "cols_sweet = ['star', 'Ms_sweet', 'dMs_sweet', 'Fe/H_sweet', 'dFe/H_sweet', 'reference_sweet']\n",
    "cols_eu = ['planet', 'P_eu', 'dP_eu', 'e_eu', 'de_eu', 'K_eu', 'dK_eu', 'Fe/H_eu', 'dFe/H_eu', 'Ms_eu', 'dMs_eu']\n",
    "df_new = pd.merge(df_old, sweet_cat[cols_sweet], on='star', how='left')\n",
    "df_new = pd.merge(df_new, eu[cols_eu], on='planet', how='left')"
   ]
  },
  {
   "cell_type": "markdown",
   "metadata": {},
   "source": [
    "## Revise Data"
   ]
  },
  {
   "cell_type": "code",
   "execution_count": 83,
   "metadata": {
    "code_folding": [
     0
    ]
   },
   "outputs": [],
   "source": [
    "# データがない行を削除\n",
    "df_new = df_new.dropna(how='all')"
   ]
  },
  {
   "cell_type": "code",
   "execution_count": 84,
   "metadata": {
    "code_folding": [
     0
    ]
   },
   "outputs": [],
   "source": [
    "# datasetの値を最新のデータに更新\n",
    "cols_old = ['Fe/H', 'dFe/H', 'Ms', 'dMs', 'P', 'dP', 'e', 'de', 'K', 'dK', 'reference']\n",
    "cols_new = ['Fe/H_sweet', 'dFe/H_sweet', 'Ms_sweet', 'dMs_sweet', 'P_eu', 'dP_eu', 'e_eu', 'de_eu', 'K_eu', 'dK_eu', 'reference_sweet']\n",
    "for col_old, col_new in zip(cols_old, cols_new):\n",
    "    df_new.loc[df_new[col_new].isnull()==False, col_old] = df_new[df_new[col_new].isnull()==False][col_new]"
   ]
  },
  {
   "cell_type": "code",
   "execution_count": 86,
   "metadata": {
    "code_folding": [
     0
    ]
   },
   "outputs": [],
   "source": [
    "# 要らないカラムを削除\n",
    "drop_cols = ['reference_sweet', 'P_eu', 'dP_eu', 'e_eu', 'de_eu', 'K_eu', 'dK_eu']\n",
    "df_new = df_new.drop(drop_cols, axis=1)"
   ]
  },
  {
   "cell_type": "markdown",
   "metadata": {},
   "source": [
    "## Save File"
   ]
  },
  {
   "cell_type": "code",
   "execution_count": 106,
   "metadata": {
    "code_folding": [
     0
    ],
    "scrolled": false
   },
   "outputs": [],
   "source": [
    "# updateしたDFをExcelファイルの新たなsheetに追加\n",
    "today = datetime.date.today().isoformat()\n",
    "with pd.ExcelWriter(file_name, engine='openpyxl') as writer:\n",
    "    writer.book = openpyxl.load_workbook(file_name)\n",
    "    df_new.to_excel(writer, sheet_name=f'{today}', index=False)"
   ]
  },
  {
   "cell_type": "code",
   "execution_count": 87,
   "metadata": {
    "code_folding": [
     0
    ]
   },
   "outputs": [],
   "source": [
    "## DFをExcelファイルとして保存\n",
    "#df_new.to_excel('/Users/shohei/Desktop/Shohei/Fresnel/Formation/Data/dataset_new_v2.xlsx', sheet_name=f'{today}', index=False)"
   ]
  },
  {
   "cell_type": "code",
   "execution_count": null,
   "metadata": {},
   "outputs": [],
   "source": []
  },
  {
   "cell_type": "code",
   "execution_count": null,
   "metadata": {},
   "outputs": [],
   "source": []
  },
  {
   "cell_type": "code",
   "execution_count": null,
   "metadata": {},
   "outputs": [],
   "source": []
  }
 ],
 "metadata": {
  "kernelspec": {
   "display_name": "Python 3",
   "language": "python",
   "name": "python3"
  },
  "language_info": {
   "codemirror_mode": {
    "name": "ipython",
    "version": 3
   },
   "file_extension": ".py",
   "mimetype": "text/x-python",
   "name": "python",
   "nbconvert_exporter": "python",
   "pygments_lexer": "ipython3",
   "version": "3.6.4"
  },
  "toc": {
   "base_numbering": 1,
   "nav_menu": {},
   "number_sections": true,
   "sideBar": true,
   "skip_h1_title": false,
   "title_cell": "Table of Contents",
   "title_sidebar": "Contents",
   "toc_cell": false,
   "toc_position": {},
   "toc_section_display": true,
   "toc_window_display": true
  }
 },
 "nbformat": 4,
 "nbformat_minor": 2
}
